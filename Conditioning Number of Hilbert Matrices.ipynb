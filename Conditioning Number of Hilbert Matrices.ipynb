{
  "nbformat": 4,
  "nbformat_minor": 5,
  "metadata": {
    "kernelspec": {
      "display_name": "Python 3",
      "language": "python",
      "name": "python3"
    },
    "language_info": {
      "codemirror_mode": {
        "name": "ipython",
        "version": 3
      },
      "file_extension": ".py",
      "mimetype": "text/x-python",
      "name": "python",
      "nbconvert_exporter": "python",
      "pygments_lexer": "ipython3",
      "version": "3.8.8"
    },
    "colab": {
      "provenance": []
    }
  },
  "cells": [
    {
      "cell_type": "markdown",
      "metadata": {
        "id": "dcd44ab2"
      },
      "source": [
        "# MATH 435 Condition Numbers of Hilbert Matrices\n",
        "James Della-Giustina"
      ],
      "id": "dcd44ab2"
    },
    {
      "cell_type": "markdown",
      "metadata": {
        "id": "6021d600"
      },
      "source": [
        "# Imports"
      ],
      "id": "6021d600"
    },
    {
      "cell_type": "code",
      "metadata": {
        "id": "62935ee4"
      },
      "source": [
        "import numpy as np\n",
        "from scipy import linalg\n",
        "np.set_printoptions(precision=3) # you can adjust this if you feel like it"
      ],
      "id": "62935ee4",
      "execution_count": null,
      "outputs": []
    },
    {
      "cell_type": "markdown",
      "metadata": {
        "id": "40d6117a"
      },
      "source": [
        "# Overview (you have to read this)\n",
        "You should also execute all code cells you encounter along the way"
      ],
      "id": "40d6117a"
    },
    {
      "cell_type": "markdown",
      "metadata": {
        "id": "a82b34a3"
      },
      "source": [
        "A Hilbert matrix of size $n$ is the $n\\times n$ symmetric matrix $H_n = (h_{ij})$ whose $(i,j)$ entry is\n",
        "\\begin{equation*}\n",
        "    h_{ij} = \\frac{1}{i + j - 1} \\qquad \\text{ for } (i,j)\\in \\{1, \\ldots, n\\}\\times\\{1, \\ldots, n\\}.\n",
        "\\end{equation*}\n",
        "Modify the entries in the following matrix to get $H_4$. Write the entries as fractions (not as decimals).\n",
        "\\begin{equation*}\n",
        "    H_4\n",
        "    = \\begin{bmatrix}\n",
        "    * & * & * & * \\\\\n",
        "    * & * & * & * \\\\\n",
        "    * & * & * & * \\\\\n",
        "    * & * & * & *\n",
        "    \\end{bmatrix}\n",
        "\\end{equation*}"
      ],
      "id": "a82b34a3"
    },
    {
      "cell_type": "markdown",
      "metadata": {
        "id": "bagMWyheGKqr"
      },
      "source": [
        "The Hilbert Matrix $H_4$ is given by:\n",
        "\\begin{equation*}\n",
        "    H_4\n",
        "    = \\begin{bmatrix}\n",
        "    1 & \\frac{1}{2} & \\frac{1}{3} & \\frac{1}{4} \\\\\n",
        "    \\frac{1}{2} & \\frac{1}{3} & \\frac{1}{4} & \\frac{1}{5} \\\\\n",
        "    \\frac{1}{3} & \\frac{1}{4} & \\frac{1}{5} & \\frac{1}{6} \\\\\n",
        "    \\frac{1}{4} & \\frac{1}{5} & \\frac{1}{6} & \\frac{1}{7}\n",
        "    \\end{bmatrix}\n",
        "\\end{equation*}"
      ],
      "id": "bagMWyheGKqr"
    },
    {
      "cell_type": "markdown",
      "metadata": {
        "id": "1b9b06c6"
      },
      "source": [
        "The Hilbert matrices are examples of matrices that are ill-conditioned and the conditioning becomes worse as $n$ becomes larger. We will briefly explore this fact in this assignment.\n",
        "\n",
        "Python's scipy library has built-in capabilities for generating Hilbert matrices. For example, since we have imported the `linalg` library from `scipy` above, we can simply type `linalg.hilbert(3)` to generate the $3\\times 3$ Hilbert matrix:"
      ],
      "id": "1b9b06c6"
    },
    {
      "cell_type": "code",
      "metadata": {
        "colab": {
          "base_uri": "https://localhost:8080/"
        },
        "id": "bf6ac040",
        "outputId": "92dc86ac-e8a3-4420-bd71-02fe6a0d5aa0"
      },
      "source": [
        "H = linalg.hilbert(3)\n",
        "H"
      ],
      "id": "bf6ac040",
      "execution_count": null,
      "outputs": [
        {
          "output_type": "execute_result",
          "data": {
            "text/plain": [
              "array([[1.   , 0.5  , 0.333],\n",
              "       [0.5  , 0.333, 0.25 ],\n",
              "       [0.333, 0.25 , 0.2  ]])"
            ]
          },
          "metadata": {},
          "execution_count": 3
        }
      ]
    },
    {
      "cell_type": "markdown",
      "metadata": {
        "id": "eabeacf6"
      },
      "source": [
        "Since we will be exploring the conditioning, let me introduce you to numpy's condition number estimation function `np.linalg.cond()`. For example to get an estimate of the condition number of `H`, we simply type `np.linalg.cond(H)` as follows:"
      ],
      "id": "eabeacf6"
    },
    {
      "cell_type": "code",
      "metadata": {
        "colab": {
          "base_uri": "https://localhost:8080/"
        },
        "id": "4e582265",
        "outputId": "8f644482-be3b-4322-9976-2ed85106b774"
      },
      "source": [
        "kappa = np.linalg.cond(H)\n",
        "kappa"
      ],
      "id": "4e582265",
      "execution_count": null,
      "outputs": [
        {
          "output_type": "execute_result",
          "data": {
            "text/plain": [
              "524.0567775860627"
            ]
          },
          "metadata": {},
          "execution_count": 4
        }
      ]
    },
    {
      "cell_type": "markdown",
      "metadata": {
        "id": "a0a63457"
      },
      "source": [
        "As we can see, even when $n = 3$ (which is small in the world of matrix computations), $H_3$ is already suspicious. Let us explore the consequences of this fact in terms of solving equations of the form $H_3 x = b$. Let $z = (1, 1, 1)^\\top$ and define $b$ by $b = H_3 z$.  "
      ],
      "id": "a0a63457"
    },
    {
      "cell_type": "code",
      "metadata": {
        "id": "b79a0b23"
      },
      "source": [
        "z = np.ones(3)\n",
        "b = H@z"
      ],
      "id": "b79a0b23",
      "execution_count": null,
      "outputs": []
    },
    {
      "cell_type": "markdown",
      "metadata": {
        "id": "b710eb15"
      },
      "source": [
        "If we numerically compute the solution $x$ to $H_3 x = b$ we would hope to get $x = z$, or at least $x\\approx z$. We can numerically compute $x$ by using the `linalg.solve` method as follows:"
      ],
      "id": "b710eb15"
    },
    {
      "cell_type": "code",
      "metadata": {
        "colab": {
          "base_uri": "https://localhost:8080/"
        },
        "id": "2a4b32a2",
        "outputId": "ded1f976-b01c-40c6-a4db-c4d129f7540e"
      },
      "source": [
        "x = linalg.solve(H, b)\n",
        "x"
      ],
      "id": "2a4b32a2",
      "execution_count": null,
      "outputs": [
        {
          "output_type": "execute_result",
          "data": {
            "text/plain": [
              "array([1., 1., 1.])"
            ]
          },
          "metadata": {},
          "execution_count": 6
        }
      ]
    },
    {
      "cell_type": "markdown",
      "metadata": {
        "id": "6043ffdc"
      },
      "source": [
        "In this case the matrix is small enough (only $3\\times 3$) that the `linalg.solve` method successfully produces $x = z$ and this can be seen by visual inspection of $x$. If the matrix were larger we may not be able to tell by visual inspection whether $x\\approx z$ unless we were willing to deal with tediously comparing each entry of $x$ to the corresponding entry of $z$. A method for comparing $x$ to $z$ that doesn't rely on visual inspection is to compute the relative error (in this case using the standard Euclidean norm):\n",
        "\\begin{equation*}\n",
        "    \\frac{\\|x - z\\|}{\\|z\\|}\n",
        "\\end{equation*}\n",
        "This can be accomplished using the `linalg.norm` method as follows:"
      ],
      "id": "6043ffdc"
    },
    {
      "cell_type": "code",
      "metadata": {
        "colab": {
          "base_uri": "https://localhost:8080/"
        },
        "id": "be71cfb5",
        "outputId": "5e32fd4b-7244-4771-c344-c7678d35c926"
      },
      "source": [
        "rel_err = linalg.norm(x - z)/linalg.norm(z)\n",
        "rel_err"
      ],
      "id": "be71cfb5",
      "execution_count": null,
      "outputs": [
        {
          "output_type": "execute_result",
          "data": {
            "text/plain": [
              "8.022593772267726e-15"
            ]
          },
          "metadata": {},
          "execution_count": 7
        }
      ]
    },
    {
      "cell_type": "markdown",
      "metadata": {
        "id": "ab21ee24"
      },
      "source": [
        "In this instance, the fact that $\\kappa(H_3) \\approx 500$ was not enough to ruin our computation of the solution of $H_3 x = b$."
      ],
      "id": "ab21ee24"
    },
    {
      "cell_type": "markdown",
      "metadata": {
        "id": "d21c63d4"
      },
      "source": [
        "# Exercise 1"
      ],
      "id": "d21c63d4"
    },
    {
      "cell_type": "markdown",
      "metadata": {
        "id": "951d5152"
      },
      "source": [
        "Write a Python function called `solve_hilb` that takes as input, an integer $n$ (the size of a Hilbert matrix) and does the following:\n",
        "* Creates the $n\\times n$ Hilbert matrix $H_n$ and constructs the nonhomogenity $b = H_n z$, where $z = (1, \\ldots , 1)^\\top\\in \\mathbb R^n$.\n",
        "* Solves the linear system $H_n x = b$ for $x$ (you may use built in solver such as `linalg.solve`) then computes the relative error in the computed solution $x$ (relative to the true solution $z$). Use the standard Euclidean norm for the relative error computation.\n",
        "* returns both the condition number of $H_n$ and the relative error.\n",
        "\n",
        "All of these tasks were done in the overview in the case $n = 3$, I'm just asking you to automate the process so that one can input $n$ and immediately get the corresponding condition number and relative error.\n",
        "\n",
        "I've started a skeleton of a function for you in the following cell."
      ],
      "id": "951d5152"
    },
    {
      "cell_type": "code",
      "metadata": {
        "id": "4df8ebd5"
      },
      "source": [
        "def solve_hilb(n):\n",
        "    \"\"\"\n",
        "    Solve the equation Hx = b for x, where H is the n-by-n Hilbert matrix (the same n\n",
        "    as the input n) and b = Hz for z = (1, ..., 1)^t. Return both the conditon number\n",
        "    of H and the relative error in the solution. 1\n",
        "    \"\"\"\n",
        "    H = linalg.hilbert(n)\n",
        "    cond_H = np.linalg.cond(H)\n",
        "    z = np.ones(n)\n",
        "    b = H@z\n",
        "    x = linalg.solve(H, b)\n",
        "    rel_err = linalg.norm(x - z)/linalg.norm(z)\n",
        "\n",
        "    return cond_H, rel_err"
      ],
      "id": "4df8ebd5",
      "execution_count": null,
      "outputs": []
    },
    {
      "cell_type": "markdown",
      "metadata": {
        "id": "f12b79ee"
      },
      "source": [
        "# Exercise 2"
      ],
      "id": "f12b79ee"
    },
    {
      "cell_type": "markdown",
      "metadata": {
        "id": "33a6a056"
      },
      "source": [
        "Run your `solve_hilb` function on $n = 3$ to be sure you get the same results obtained in the overview."
      ],
      "id": "33a6a056"
    },
    {
      "cell_type": "code",
      "metadata": {
        "id": "2430439e",
        "colab": {
          "base_uri": "https://localhost:8080/"
        },
        "outputId": "17cd16ea-35f5-4d0d-d89a-9a969479a657"
      },
      "source": [
        "# Execute this cell.\n",
        "solve_hilb(3)"
      ],
      "id": "2430439e",
      "execution_count": null,
      "outputs": [
        {
          "output_type": "execute_result",
          "data": {
            "text/plain": [
              "(524.0567775860627, 8.022593772267726e-15)"
            ]
          },
          "metadata": {},
          "execution_count": 9
        }
      ]
    },
    {
      "cell_type": "markdown",
      "metadata": {
        "id": "5729e7c2"
      },
      "source": [
        "# Exercise 3"
      ],
      "id": "5729e7c2"
    },
    {
      "cell_type": "markdown",
      "metadata": {
        "id": "b5571645"
      },
      "source": [
        "By doing a bit of exploring with feeding different values of $n$ to `solve_hilb`, find the minimum value of $n$ for which the relative error in the computed solution $x$ (relative to the true solution $z = (1, \\ldots, 1)^\\top$ is larger than or equal to $0.25$. For this $n$, what is the condition number of $H_n$?\n",
        "\n",
        "*Note: When $n$ gets large enough that the condition number of $H_n$ is intolerably large, Python will raise a warning making you aware of this fact.*"
      ],
      "id": "b5571645"
    },
    {
      "cell_type": "code",
      "metadata": {
        "colab": {
          "base_uri": "https://localhost:8080/"
        },
        "id": "PKBiX9NdbS5V",
        "outputId": "02051c78-4054-4bf0-d8d4-b4c0cda90fa0"
      },
      "source": [
        "k=20;\n",
        "i=1\n",
        "while i < k:\n",
        "    print(solve_hilb(i))\n",
        "    i=i+1\n"
      ],
      "id": "PKBiX9NdbS5V",
      "execution_count": null,
      "outputs": [
        {
          "output_type": "stream",
          "name": "stdout",
          "text": [
            "(1.0, 0.0)\n",
            "(19.281470067903967, 5.661048867003676e-16)\n",
            "(524.0567775860627, 8.022593772267726e-15)\n",
            "(15513.738738929662, 4.137409622430382e-14)\n",
            "(476607.2502419595, 1.6828426299227195e-12)\n",
            "(14951058.641879061, 1.4242437208427487e-10)\n",
            "(475367356.9028203, 7.637452450980383e-09)\n",
            "(15257575505.048504, 6.124089555723088e-08)\n",
            "(493153563504.81415, 3.8751634185032475e-06)\n",
            "(16024905787698.326, 8.670390237096913e-05)\n",
            "(522518134089746.8, 0.000838328777627572)\n",
            "(1.643080577584755e+16, 0.32491292968691676)\n",
            "(5.729989400507761e+18, 3.648729201208787)\n",
            "(3.25920065289962e+17, 3.673009823340255)\n",
            "(4.4193794499857517e+17, 4.930030954879194)\n",
            "(8.260202121289064e+18, 3.7578055513989828)\n",
            "(1.1963372192370002e+18, 6.6573220117364835)\n",
            "(1.711031621048699e+18, 11.745256954756888)\n",
            "(9.586490373784824e+18, 5.720717752417546)\n"
          ]
        },
        {
          "output_type": "stream",
          "name": "stderr",
          "text": [
            "/usr/local/lib/python3.7/dist-packages/ipykernel_launcher.py:11: LinAlgWarning: Ill-conditioned matrix (rcond=2.34967e-17): result may not be accurate.\n",
            "  # This is added back by InteractiveShellApp.init_path()\n",
            "/usr/local/lib/python3.7/dist-packages/ipykernel_launcher.py:11: LinAlgWarning: Ill-conditioned matrix (rcond=1.28868e-18): result may not be accurate.\n",
            "  # This is added back by InteractiveShellApp.init_path()\n",
            "/usr/local/lib/python3.7/dist-packages/ipykernel_launcher.py:11: LinAlgWarning: Ill-conditioned matrix (rcond=1.01671e-18): result may not be accurate.\n",
            "  # This is added back by InteractiveShellApp.init_path()\n",
            "/usr/local/lib/python3.7/dist-packages/ipykernel_launcher.py:11: LinAlgWarning: Ill-conditioned matrix (rcond=8.18724e-19): result may not be accurate.\n",
            "  # This is added back by InteractiveShellApp.init_path()\n",
            "/usr/local/lib/python3.7/dist-packages/ipykernel_launcher.py:11: LinAlgWarning: Ill-conditioned matrix (rcond=1.1839e-19): result may not be accurate.\n",
            "  # This is added back by InteractiveShellApp.init_path()\n",
            "/usr/local/lib/python3.7/dist-packages/ipykernel_launcher.py:11: LinAlgWarning: Ill-conditioned matrix (rcond=3.38787e-19): result may not be accurate.\n",
            "  # This is added back by InteractiveShellApp.init_path()\n",
            "/usr/local/lib/python3.7/dist-packages/ipykernel_launcher.py:11: LinAlgWarning: Ill-conditioned matrix (rcond=4.28875e-19): result may not be accurate.\n",
            "  # This is added back by InteractiveShellApp.init_path()\n",
            "/usr/local/lib/python3.7/dist-packages/ipykernel_launcher.py:11: LinAlgWarning: Ill-conditioned matrix (rcond=4.55749e-19): result may not be accurate.\n",
            "  # This is added back by InteractiveShellApp.init_path()\n"
          ]
        }
      ]
    },
    {
      "cell_type": "code",
      "metadata": {
        "colab": {
          "base_uri": "https://localhost:8080/"
        },
        "id": "bbawW_dHdJTQ",
        "outputId": "978a62d0-6f30-4236-cfb9-02dc19c11c73"
      },
      "source": [
        "solve_hilb(12)"
      ],
      "id": "bbawW_dHdJTQ",
      "execution_count": null,
      "outputs": [
        {
          "output_type": "stream",
          "name": "stderr",
          "text": [
            "/usr/local/lib/python3.7/dist-packages/ipykernel_launcher.py:11: LinAlgWarning: Ill-conditioned matrix (rcond=2.34967e-17): result may not be accurate.\n",
            "  # This is added back by InteractiveShellApp.init_path()\n"
          ]
        },
        {
          "output_type": "execute_result",
          "data": {
            "text/plain": [
              "(1.643080577584755e+16, 0.32491292968691676)"
            ]
          },
          "metadata": {},
          "execution_count": 28
        }
      ]
    },
    {
      "cell_type": "markdown",
      "metadata": {
        "id": "2XXpw57AdgS6"
      },
      "source": [
        "For $n=12$, the Hilbert matrix $H_{12}$ returns an relative error of $\\approx .325$ with a condition number $\\approx 1.643$. Python accordingly throws the warning of an ill-conditioned matrix at exactly this point."
      ],
      "id": "2XXpw57AdgS6"
    }
  ]
}