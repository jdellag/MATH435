{
  "nbformat": 4,
  "nbformat_minor": 0,
  "metadata": {
    "colab": {
      "name": "Naive GE_MATH435_Project1.ipynb",
      "provenance": [],
      "collapsed_sections": []
    },
    "kernelspec": {
      "name": "python3",
      "display_name": "Python 3"
    },
    "language_info": {
      "name": "python"
    }
  },
  "cells": [
    {
      "cell_type": "markdown",
      "metadata": {
        "id": "G_dm_UIl6I0Q"
      },
      "source": [
        "Submission by: James Della-Giustina, Craig Riley, Mitchell Macadams, Gavin Andrews"
      ]
    },
    {
      "cell_type": "code",
      "metadata": {
        "id": "-8rqtXDDGPpO"
      },
      "source": [
        "import numpy as np"
      ],
      "execution_count": null,
      "outputs": []
    },
    {
      "cell_type": "code",
      "metadata": {
        "id": "XA9bgHV9vGWp"
      },
      "source": [
        "def get_LU_Naive(a):\n",
        "    k=len(a) # Number of columns/rows of the input matrix a\n",
        "    L=np.eye(k, dtype=float) #Identity matrix of equal size of a\n",
        "    U=a.copy() # Operate on U and keep a unchanged  \n",
        "    print('a=\\n',a)\n",
        "    count=0 # Row counter to operate on \n",
        "    while count+1 < k: #count starts at 1 but is set to 0 since the rows are indexed starting at 0\n",
        "        for i in range(1,k-count): # We want i to range over the number of rows that we want to eliminate, so its 'range' must decrease for each pivot column\n",
        "            if U[count+i,count]==0: # Handle the case for division by 0 by skipping the rows that already have zero below the pivot\n",
        "                i=i+1\n",
        "            else: \n",
        "                coeff=U[count+i,count]/U[count,count] # Coefficent to negate the row below the pivot is that entry divided by the pivot\n",
        "                L[count+i,count]=coeff   # Store into our lower triangular coefficient matrix L\n",
        "                U[count+i,:]= -coeff*U[count,:]+U[count+i,:] # Perform the row operation to produce zeros below the pivot using the negative coeffecient\n",
        "        count=count+1\n",
        "    return L,U"
      ],
      "execution_count": 1,
      "outputs": []
    }
  ]
}