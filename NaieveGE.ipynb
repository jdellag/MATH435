{
 "cells": [
  {
   "cell_type": "markdown",
   "metadata": {
    "id": "G_dm_UIl6I0Q"
   },
   "source": [
    "Submission by: James Della-Giustina"
   ]
  },
  {
   "cell_type": "code",
   "execution_count": 1,
   "metadata": {
    "id": "-8rqtXDDGPpO"
   },
   "outputs": [],
   "source": [
    "import numpy as np"
   ]
  },
  {
   "cell_type": "code",
   "execution_count": 37,
   "metadata": {
    "id": "XA9bgHV9vGWp"
   },
   "outputs": [],
   "source": [
    "def get_LU_Naive(a):\n",
    "    k=len(a) # Number of columns/rows of the input matrix a\n",
    "    print('k = ', k)\n",
    "    L=np.eye(k, dtype=float) #Identity matrix of equal size of a\n",
    "    U=a.copy() # Operate on U and keep a unchanged  \n",
    "    print('a=\\n',a)\n",
    "    count=0 # Row counter to operate on \n",
    "    while count+1 < k: #count starts at 1 but is set to 0 since the rows are indexed starting at 0\n",
    "        print('*** count = {} ****'.format(count))\n",
    "        for i in range(1,k-count): # We want i to range over the number of rows that we want to eliminate, so its 'range' must decrease for each pivot column\n",
    "            print('*** i = {} ***'.format(i))\n",
    "            print('U[count+i,count] = ', U[count+i,count])\n",
    "            if U[count+i,count]==0: # Handle the case for division by 0 by skipping the rows that already have zero below the pivot\n",
    "                print('the if statement has been entered')\n",
    "                i=i+1\n",
    "            else: \n",
    "                coeff=U[count+i,count]/U[count,count] # Coefficent to negate the row below the pivot is that entry divided by the pivot\n",
    "                L[count+i,count]=coeff   # Store into our lower triangular coefficient matrix L\n",
    "                U[count+i,:]= -coeff*U[count,:]+U[count+i,:] # Perform the row operation to produce zeros below the pivot using the negative coeffecient\n",
    "                print('coeff = ', coeff)\n",
    "                print('U = \\n\\t', U)\n",
    "                \n",
    "        count=count+1\n",
    "    print('U=\\n',U)\n",
    "    print('L=\\n',L)\n",
    "    return L, U"
   ]
  },
  {
   "cell_type": "code",
   "execution_count": 38,
   "metadata": {},
   "outputs": [
    {
     "data": {
      "text/plain": [
       "array([[1, 2, 3],\n",
       "       [4, 5, 6],\n",
       "       [7, 8, 9]])"
      ]
     },
     "execution_count": 38,
     "metadata": {},
     "output_type": "execute_result"
    }
   ],
   "source": [
    "n = 3\n",
    "a = np.arange(n**2).reshape((n,n)) + 1\n",
    "a"
   ]
  },
  {
   "cell_type": "code",
   "execution_count": 39,
   "metadata": {},
   "outputs": [
    {
     "name": "stdout",
     "output_type": "stream",
     "text": [
      "k =  3\n",
      "a=\n",
      " [[1 2 3]\n",
      " [4 5 6]\n",
      " [7 8 9]]\n",
      "*** count = 0 ****\n",
      "*** i = 1 ***\n",
      "U[count+i,count] =  4\n",
      "coeff =  4.0\n",
      "U = \n",
      "\t [[ 1  2  3]\n",
      " [ 0 -3 -6]\n",
      " [ 7  8  9]]\n",
      "*** i = 2 ***\n",
      "U[count+i,count] =  7\n",
      "coeff =  7.0\n",
      "U = \n",
      "\t [[  1   2   3]\n",
      " [  0  -3  -6]\n",
      " [  0  -6 -12]]\n",
      "*** count = 1 ****\n",
      "*** i = 1 ***\n",
      "U[count+i,count] =  -6\n",
      "coeff =  2.0\n",
      "U = \n",
      "\t [[ 1  2  3]\n",
      " [ 0 -3 -6]\n",
      " [ 0  0  0]]\n",
      "U=\n",
      " [[ 1  2  3]\n",
      " [ 0 -3 -6]\n",
      " [ 0  0  0]]\n",
      "L=\n",
      " [[1. 0. 0.]\n",
      " [4. 1. 0.]\n",
      " [7. 2. 1.]]\n"
     ]
    }
   ],
   "source": [
    "ell, you = get_LU_Naive(a)"
   ]
  },
  {
   "cell_type": "code",
   "execution_count": 40,
   "metadata": {},
   "outputs": [
    {
     "data": {
      "text/plain": [
       "array([[1., 0., 0.],\n",
       "       [4., 1., 0.],\n",
       "       [7., 2., 1.]])"
      ]
     },
     "execution_count": 40,
     "metadata": {},
     "output_type": "execute_result"
    }
   ],
   "source": [
    "ell"
   ]
  },
  {
   "cell_type": "code",
   "execution_count": 41,
   "metadata": {},
   "outputs": [
    {
     "data": {
      "text/plain": [
       "array([[ 1,  2,  3],\n",
       "       [ 0, -3, -6],\n",
       "       [ 0,  0,  0]])"
      ]
     },
     "execution_count": 41,
     "metadata": {},
     "output_type": "execute_result"
    }
   ],
   "source": [
    "you"
   ]
  },
  {
   "cell_type": "code",
   "execution_count": 42,
   "metadata": {},
   "outputs": [
    {
     "data": {
      "text/plain": [
       "array([[0., 0., 0.],\n",
       "       [0., 0., 0.],\n",
       "       [0., 0., 0.]])"
      ]
     },
     "execution_count": 42,
     "metadata": {},
     "output_type": "execute_result"
    }
   ],
   "source": [
    "ell@you - a"
   ]
  },
  {
   "cell_type": "code",
   "execution_count": null,
   "metadata": {},
   "outputs": [],
   "source": []
  }
 ],
 "metadata": {
  "colab": {
   "collapsed_sections": [],
   "name": "Naive_GE_MATH435_Project1.ipynb",
   "provenance": []
  },
  "kernelspec": {
   "display_name": "Python 3",
   "language": "python",
   "name": "python3"
  },
  "language_info": {
   "codemirror_mode": {
    "name": "ipython",
    "version": 3
   },
   "file_extension": ".py",
   "mimetype": "text/x-python",
   "name": "python",
   "nbconvert_exporter": "python",
   "pygments_lexer": "ipython3",
   "version": "3.7.4"
  }
 },
 "nbformat": 4,
 "nbformat_minor": 1
}
