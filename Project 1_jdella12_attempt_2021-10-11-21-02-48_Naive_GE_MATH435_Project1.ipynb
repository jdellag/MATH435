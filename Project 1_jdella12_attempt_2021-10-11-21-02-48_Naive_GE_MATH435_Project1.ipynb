{
 "cells": [
  {
   "cell_type": "markdown",
   "metadata": {},
   "source": [
    "# Grade: 50/50"
   ]
  },
  {
   "cell_type": "markdown",
   "metadata": {
    "id": "G_dm_UIl6I0Q"
   },
   "source": [
    "Submission by: James Della-Giustina, Craig Riley, Mitchell Macadams, Gavin Andrews"
   ]
  },
  {
   "cell_type": "code",
   "execution_count": 1,
   "metadata": {
    "id": "-8rqtXDDGPpO"
   },
   "outputs": [],
   "source": [
    "import numpy as np"
   ]
  },
  {
   "cell_type": "code",
   "execution_count": 2,
   "metadata": {
    "id": "XA9bgHV9vGWp"
   },
   "outputs": [],
   "source": [
    "def get_LU_Naive(a):\n",
    "    k=len(a) # Number of columns/rows of the input matrix a\n",
    "    L=np.eye(k, dtype=float) #Identity matrix of equal size of a\n",
    "    U=a.copy() # Operate on U and keep a unchanged  \n",
    "    print('a=\\n',a)\n",
    "    count=0 # Row counter to operate on \n",
    "    while count+1 < k: #count starts at 1 but is set to 0 since the rows are indexed starting at 0\n",
    "        for i in range(1,k-count): # We want i to range over the number of rows that we want to eliminate, so its 'range' must decrease for each pivot column\n",
    "            if U[count+i,count]==0: # Handle the case for division by 0 by skipping the rows that already have zero below the pivot\n",
    "                i=i+1\n",
    "            else: \n",
    "                coeff=U[count+i,count]/U[count,count] # Coefficent to negate the row below the pivot is that entry divided by the pivot\n",
    "                L[count+i,count]=coeff   # Store into our lower triangular coefficient matrix L\n",
    "                U[count+i,:]= -coeff*U[count,:]+U[count+i,:] # Perform the row operation to produce zeros below the pivot using the negative coeffecient\n",
    "        count=count+1\n",
    "    return L,U"
   ]
  },
  {
   "cell_type": "markdown",
   "metadata": {},
   "source": [
    "# For grading purposes below\n",
    "None of your group members are in MATH 535, so this is graded as a MATH 435 assignment"
   ]
  },
  {
   "cell_type": "code",
   "execution_count": 8,
   "metadata": {},
   "outputs": [],
   "source": [
    "np.set_printoptions(precision = 2, suppress = True) # show fewer decimal places in outputs"
   ]
  },
  {
   "cell_type": "code",
   "execution_count": 3,
   "metadata": {},
   "outputs": [],
   "source": [
    "def gen_mat(n, low = -3, high = 3, MATH535 = False):\n",
    "    \"\"\"\n",
    "    Generate a random, invertible symmetric nxn matrix\n",
    "    with integer entries and whose determinant is equal\n",
    "    to +1 or 1. \n",
    "    \"\"\"\n",
    "    a = np.random.randint(low, high, size = (n, n))\n",
    "    a = np.tril(a, -1) + np.eye(n) # np.tril grabs lower triangle\n",
    "    a = a.T@a\n",
    "    \n",
    "    if MATH535 == True: \n",
    "        # randomly permute the rows and columns. \n",
    "        p_mat = np.eye(n)[:,np.random.permutation(n)]\n",
    "        q_mat = np.eye(n)[:,np.random.permutation(n)]\n",
    "        a = p_mat.T@a@q_mat\n",
    "    return a"
   ]
  },
  {
   "cell_type": "code",
   "execution_count": 4,
   "metadata": {},
   "outputs": [],
   "source": [
    "# generate a matrix\n",
    "#\n",
    "a = gen_mat(5)"
   ]
  },
  {
   "cell_type": "code",
   "execution_count": 9,
   "metadata": {},
   "outputs": [
    {
     "name": "stdout",
     "output_type": "stream",
     "text": [
      "a=\n",
      " [[ 10.   2.  -5.   1.   0.]\n",
      " [  2.  10. -11.   6.   2.]\n",
      " [ -5. -11.  14.  -7.  -2.]\n",
      " [  1.   6.  -7.   5.   2.]\n",
      " [  0.   2.  -2.   2.   1.]]\n"
     ]
    }
   ],
   "source": [
    "# Run your code on the generated matrix: \n",
    "#\n",
    "L, U = get_LU_Naive(a)"
   ]
  },
  {
   "cell_type": "code",
   "execution_count": 10,
   "metadata": {},
   "outputs": [
    {
     "data": {
      "text/plain": [
       "(array([[ 1.  ,  0.  ,  0.  ,  0.  ,  0.  ],\n",
       "        [ 0.2 ,  1.  ,  0.  ,  0.  ,  0.  ],\n",
       "        [-0.5 , -1.04,  1.  ,  0.  ,  0.  ],\n",
       "        [ 0.1 ,  0.6 , -0.42,  1.  ,  0.  ],\n",
       "        [ 0.  ,  0.21,  0.08,  0.69,  1.  ]]),\n",
       " array([[ 10.  ,   2.  ,  -5.  ,   1.  ,   0.  ],\n",
       "        [  0.  ,   9.6 , -10.  ,   5.8 ,   2.  ],\n",
       "        [  0.  ,   0.  ,   1.08,  -0.46,   0.08],\n",
       "        [  0.  ,   0.  ,   0.  ,   1.2 ,   0.83],\n",
       "        [  0.  ,   0.  ,   0.  ,   0.  ,   0.01]]))"
      ]
     },
     "execution_count": 10,
     "metadata": {},
     "output_type": "execute_result"
    }
   ],
   "source": [
    "# Check that L and U are lower and upper triangular respectively: \n",
    "#\n",
    "L, U"
   ]
  },
  {
   "cell_type": "code",
   "execution_count": 11,
   "metadata": {},
   "outputs": [
    {
     "data": {
      "text/plain": [
       "8.881784197001252e-16"
      ]
     },
     "execution_count": 11,
     "metadata": {},
     "output_type": "execute_result"
    }
   ],
   "source": [
    "# Now check that A = LU: \n",
    "#\n",
    "np.max(a - L@U) # should be zero (up to numerical error)"
   ]
  },
  {
   "cell_type": "code",
   "execution_count": 12,
   "metadata": {},
   "outputs": [],
   "source": [
    "# Nice work. "
   ]
  },
  {
   "cell_type": "code",
   "execution_count": null,
   "metadata": {},
   "outputs": [],
   "source": []
  }
 ],
 "metadata": {
  "colab": {
   "collapsed_sections": [],
   "name": "Naive GE_MATH435_Project1.ipynb",
   "provenance": []
  },
  "kernelspec": {
   "display_name": "Python 3 (ipykernel)",
   "language": "python",
   "name": "python3"
  },
  "language_info": {
   "codemirror_mode": {
    "name": "ipython",
    "version": 3
   },
   "file_extension": ".py",
   "mimetype": "text/x-python",
   "name": "python",
   "nbconvert_exporter": "python",
   "pygments_lexer": "ipython3",
   "version": "3.9.7"
  }
 },
 "nbformat": 4,
 "nbformat_minor": 1
}
